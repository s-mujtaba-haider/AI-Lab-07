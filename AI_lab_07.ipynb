{
  "nbformat": 4,
  "nbformat_minor": 0,
  "metadata": {
    "colab": {
      "provenance": []
    },
    "kernelspec": {
      "name": "python3",
      "display_name": "Python 3"
    },
    "language_info": {
      "name": "python"
    }
  },
  "cells": [
    {
      "cell_type": "code",
      "source": [
        "import random\n",
        "import matplotlib.pyplot as plt\n",
        "import numpy as np\n",
        "\n",
        "\n",
        "def initialization(population_size, n_queens):\n",
        "    population = []\n",
        "    for _ in range(population_size):\n",
        "        chromosome = [random.randint(1, n_queens) for _ in range(n_queens)]\n",
        "        population.append(chromosome)\n",
        "    return population\n",
        "\n",
        "def selection(population, fitness_scores):\n",
        "    total_fitness = sum(fitness_scores)\n",
        "    probabilities = [score / total_fitness for score in fitness_scores]\n",
        "    selected_indices = random.choices(range(len(population)), weights=probabilities, k=len(population))\n",
        "    return [population[i] for i in selected_indices]\n",
        "\n",
        "def fitness_function(chromo):\n",
        "    attacks = 0\n",
        "    for i in range(len(chromo)):\n",
        "        for j in range(i+1, len(chromo)):\n",
        "            if chromo[i] == chromo[j] or abs(chromo[i] - chromo[j]) == j - i:\n",
        "                attacks += 1\n",
        "    return len(chromo) * (len(chromo) - 1) // 2 - attacks\n",
        "\n",
        "\n",
        "def crossover(parent1, parent2):\n",
        "    crossover_point = random.randint(1, len(parent1) - 1)\n",
        "    child1 = parent1[:crossover_point] + parent2[crossover_point:]\n",
        "    child2 = parent2[:crossover_point] + parent1[crossover_point:]\n",
        "    return child1, child2\n",
        "\n",
        "def mutation(chromo, mutation):\n",
        "    if random.random() < mutation:\n",
        "        index = random.randint(0, len(chromo) - 1)\n",
        "        chromo[index] = random.randint(1, len(chromo))\n",
        "    return chromo\n",
        "\n",
        "def plot_board(chromo):\n",
        "    n_queens = len(chromo)\n",
        "    board = np.zeros((n_queens, n_queens))\n",
        "    for i in range(n_queens):\n",
        "        board[i][chromo[i] - 1] = 1\n",
        "\n",
        "    plt.imshow(board, cmap='cool')\n",
        "\n",
        "    for i in range(n_queens + 1):\n",
        "        plt.axhline(i - 0.5, color='black', lw=1)\n",
        "        plt.axvline(i - 0.5, color='black', lw=1)\n",
        "\n",
        "    plt.title('Solution for Queens')\n",
        "    plt.xticks([])\n",
        "    plt.yticks([])\n",
        "    plt.show()\n",
        "\n",
        "def genetic_algorithm(queens, population_size, generations, mutation_rate):\n",
        "    population = initialization(population_size, n_queens)\n",
        "    for _ in range(generations):\n",
        "        fitness_scores = [fitness_function(chromosome) for chromosome in population]\n",
        "\n",
        "        if max(fitness_scores) == n_queens * (n_queens - 1) // 2:\n",
        "            solution = population[fitness_scores.index(max(fitness_scores))]\n",
        "            plot_board(solution)\n",
        "            return solution\n",
        "\n",
        "        selected_population = selection(population, fitness_scores)\n",
        "        new_population = []\n",
        "\n",
        "        for _ in range(population_size // 2):\n",
        "            parent1, parent2 = random.sample(selected_population, 2)\n",
        "            child1, child2 = crossover(parent1, parent2)\n",
        "            child1 = mutation(child1, mutation_rate)\n",
        "            child2 = mutation(child2, mutation_rate)\n",
        "            new_population.extend([child1, child2])\n",
        "\n",
        "        population = new_population\n",
        "\n",
        "    best_solution = max(population, key=fitness_function)\n",
        "    plot_board(best_solution)\n",
        "    return best_solution\n",
        "\n",
        "n_queens = 8\n",
        "population_size = 100\n",
        "generations = 1000\n",
        "mutation_rate = 0.05\n",
        "\n",
        "solution = genetic_algorithm(n_queens, population_size, generations, mutation_rate)\n",
        "print(f\"Solution found: {solution}\")"
      ],
      "metadata": {
        "colab": {
          "base_uri": "https://localhost:8080/",
          "height": 445
        },
        "id": "193eSdkWKC6J",
        "outputId": "d7032417-9087-4447-fda1-7852ea76a310"
      },
      "execution_count": null,
      "outputs": [
        {
          "output_type": "display_data",
          "data": {
            "text/plain": [
              "<Figure size 640x480 with 1 Axes>"
            ],
            "image/png": "[encoded data removed]"
          },
          "metadata": {}
        },
        {
          "output_type": "stream",
          "name": "stdout",
          "text": [
            "Solution found: [7, 2, 4, 1, 8, 5, 3, 6]\n"
          ]
        }
      ]
    }
  ]
}